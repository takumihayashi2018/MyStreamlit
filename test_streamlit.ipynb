{
 "cells": [
  {
   "cell_type": "code",
   "execution_count": 8,
   "id": "7e27f70a-c168-40fa-a042-3841a9c89f5c",
   "metadata": {},
   "outputs": [
    {
     "data": {
      "text/plain": [
       "'/Users/takumihayashi/Documents/01_Programming/01_python'"
      ]
     },
     "execution_count": 8,
     "metadata": {},
     "output_type": "execute_result"
    }
   ],
   "source": [
    "import os\n",
    "def whereami():\n",
    "    return os.path.abspath(\".\")\n",
    "\n",
    "whereami()"
   ]
  },
  {
   "cell_type": "code",
   "execution_count": 14,
   "id": "370fcd29-7f7c-48f1-a898-443f00c1e3b1",
   "metadata": {},
   "outputs": [
    {
     "name": "stderr",
     "output_type": "stream",
     "text": [
      "/var/folders/yw/8bdfn50d1272txtsp0cbhmbr0000gp/T/ipykernel_978/208613905.py:11: UserWarning: Pandas doesn't allow columns to be created via a new attribute name - see https://pandas.pydata.org/pandas-docs/stable/indexing.html#attribute-access\n",
      "  self._df_show = self.copy()\n"
     ]
    },
    {
     "data": {
      "application/vnd.jupyter.widget-view+json": {
       "model_id": "a4f96185f2f1474591f3ce318c80ced2",
       "version_major": 2,
       "version_minor": 0
      },
      "text/plain": [
       "Button(description='click', style=ButtonStyle())"
      ]
     },
     "metadata": {},
     "output_type": "display_data"
    },
    {
     "data": {
      "application/vnd.jupyter.widget-view+json": {
       "model_id": "322c9ec642d148ca80c7d697d18675d8",
       "version_major": 2,
       "version_minor": 0
      },
      "text/plain": [
       "Button(description='click', style=ButtonStyle())"
      ]
     },
     "metadata": {},
     "output_type": "display_data"
    },
    {
     "data": {
      "application/vnd.jupyter.widget-view+json": {
       "model_id": "ad1dd0c9e5984994b14f00241e9af30a",
       "version_major": 2,
       "version_minor": 0
      },
      "text/plain": [
       "Button(description='click', style=ButtonStyle())"
      ]
     },
     "metadata": {},
     "output_type": "display_data"
    },
    {
     "data": {
      "application/vnd.jupyter.widget-view+json": {
       "model_id": "bf9861ba3ee64d13a4c27ac3a8376ed1",
       "version_major": 2,
       "version_minor": 0
      },
      "text/plain": [
       "Text(value='')"
      ]
     },
     "metadata": {},
     "output_type": "display_data"
    },
    {
     "data": {
      "application/vnd.jupyter.widget-view+json": {
       "model_id": "5faac53f528743378354680f0068d58c",
       "version_major": 2,
       "version_minor": 0
      },
      "text/plain": [
       "Text(value='')"
      ]
     },
     "metadata": {},
     "output_type": "display_data"
    },
    {
     "data": {
      "application/vnd.jupyter.widget-view+json": {
       "model_id": "07d489f7aa124068a56f5d6cdbbd2458",
       "version_major": 2,
       "version_minor": 0
      },
      "text/plain": [
       "Text(value='')"
      ]
     },
     "metadata": {},
     "output_type": "display_data"
    },
    {
     "data": {
      "text/html": [
       "<div>\n",
       "<style scoped>\n",
       "    .dataframe tbody tr th:only-of-type {\n",
       "        vertical-align: middle;\n",
       "    }\n",
       "\n",
       "    .dataframe tbody tr th {\n",
       "        vertical-align: top;\n",
       "    }\n",
       "\n",
       "    .dataframe thead th {\n",
       "        text-align: right;\n",
       "    }\n",
       "</style>\n",
       "<table border=\"1\" class=\"dataframe\">\n",
       "  <thead>\n",
       "    <tr style=\"text-align: right;\">\n",
       "      <th></th>\n",
       "      <th>A</th>\n",
       "      <th>B</th>\n",
       "      <th>button</th>\n",
       "      <th>comment</th>\n",
       "    </tr>\n",
       "  </thead>\n",
       "  <tbody>\n",
       "    <tr>\n",
       "      <th>0</th>\n",
       "      <td>1</td>\n",
       "      <td>x</td>\n",
       "      <td>click</td>\n",
       "      <td></td>\n",
       "    </tr>\n",
       "    <tr>\n",
       "      <th>1</th>\n",
       "      <td>2</td>\n",
       "      <td>y</td>\n",
       "      <td>click</td>\n",
       "      <td></td>\n",
       "    </tr>\n",
       "    <tr>\n",
       "      <th>2</th>\n",
       "      <td>3</td>\n",
       "      <td>z</td>\n",
       "      <td>click</td>\n",
       "      <td></td>\n",
       "    </tr>\n",
       "  </tbody>\n",
       "</table>\n",
       "</div>"
      ],
      "text/plain": [
       "   A  B button comment\n",
       "0  1  x  click        \n",
       "1  2  y  click        \n",
       "2  3  z  click        "
      ]
     },
     "metadata": {},
     "output_type": "display_data"
    }
   ],
   "source": [
    "import pandas as pd\n",
    "import ipywidgets as widgets\n",
    "from IPython.display import display\n",
    "\n",
    "class MyFrame(pd.DataFrame):\n",
    "    # 追加したい属性のみを__slots__に記述\n",
    "    __slots__ = ['_df_show']\n",
    "\n",
    "    def __init__(self, *args, **kwargs):\n",
    "        super().__init__(*args, **kwargs)\n",
    "        self._df_show = self.copy()\n",
    "\n",
    "    def add_button(self, a_func, col_name_button=\"button\", button_text=\"click\"):\n",
    "        def on_button_click(row, btn):\n",
    "            a_func(row)\n",
    "            \n",
    "        # ボタンの列をself._df_showに追加\n",
    "        self._df_show[col_name_button] = self.apply(lambda row: self._create_button(row, on_button_click, button_text), axis=1)\n",
    "\n",
    "    def _create_button(self, row, callback, button_text):\n",
    "        button = widgets.Button(description=button_text)\n",
    "        button.on_click(lambda btn, _row=row: callback(_row, btn))\n",
    "        display(button)\n",
    "        return button_text\n",
    "\n",
    "    def add_comments(self, a_func, col_name_comment=\"comment\"):\n",
    "        # テキスト入力の列をself._df_showに追加\n",
    "        self._df_show[col_name_comment] = self.apply(lambda row: self._create_text(row, a_func), axis=1)\n",
    "\n",
    "    def _create_text(self, row, callback):\n",
    "        text_input = widgets.Text(value='')\n",
    "        def on_text_change(change):\n",
    "            callback(change[\"new\"], row)\n",
    "        text_input.observe(on_text_change, names='value')\n",
    "        display(text_input)\n",
    "        return ''\n",
    "\n",
    "    def show(self):\n",
    "        display(self._df_show)\n",
    "\n",
    "# サンプル関数\n",
    "def button_func(row):\n",
    "    print(f\"Clicked row: {row['A']}\")\n",
    "\n",
    "def comment_func(value, row):\n",
    "    print(f\"Commented \\\"{value}\\\" on row: {row['A']}\")\n",
    "\n",
    "# サンプルデータ\n",
    "data = {\n",
    "    'A': [1, 2, 3],\n",
    "    'B': ['x', 'y', 'z']\n",
    "}\n",
    "\n",
    "# MyFrameのインスタンスを作成\n",
    "df = MyFrame(data)\n",
    "df.add_button(button_func)\n",
    "df.add_comments(comment_func)\n",
    "df.show()\n"
   ]
  },
  {
   "cell_type": "code",
   "execution_count": 17,
   "id": "6b810ee1-1033-47ac-9b20-09607ec040e4",
   "metadata": {},
   "outputs": [
    {
     "data": {
      "application/vnd.jupyter.widget-view+json": {
       "model_id": "3e3f567d5bc14887b3a34c178925d8b9",
       "version_major": 2,
       "version_minor": 0
      },
      "text/plain": [
       "Text(value='')"
      ]
     },
     "metadata": {},
     "output_type": "display_data"
    },
    {
     "data": {
      "application/vnd.jupyter.widget-view+json": {
       "model_id": "37ef9949f0714fc1a2db85a8a2aef98f",
       "version_major": 2,
       "version_minor": 0
      },
      "text/plain": [
       "Text(value='')"
      ]
     },
     "metadata": {},
     "output_type": "display_data"
    },
    {
     "data": {
      "application/vnd.jupyter.widget-view+json": {
       "model_id": "a5564c5d185d46e8aab479a5f61f58ec",
       "version_major": 2,
       "version_minor": 0
      },
      "text/plain": [
       "Text(value='')"
      ]
     },
     "metadata": {},
     "output_type": "display_data"
    },
    {
     "data": {
      "text/html": [
       "<div>\n",
       "<style scoped>\n",
       "    .dataframe tbody tr th:only-of-type {\n",
       "        vertical-align: middle;\n",
       "    }\n",
       "\n",
       "    .dataframe tbody tr th {\n",
       "        vertical-align: top;\n",
       "    }\n",
       "\n",
       "    .dataframe thead th {\n",
       "        text-align: right;\n",
       "    }\n",
       "</style>\n",
       "<table border=\"1\" class=\"dataframe\">\n",
       "  <thead>\n",
       "    <tr style=\"text-align: right;\">\n",
       "      <th></th>\n",
       "      <th>A</th>\n",
       "      <th>B</th>\n",
       "      <th>comment</th>\n",
       "    </tr>\n",
       "  </thead>\n",
       "  <tbody>\n",
       "    <tr>\n",
       "      <th>0</th>\n",
       "      <td>1</td>\n",
       "      <td>x</td>\n",
       "      <td></td>\n",
       "    </tr>\n",
       "    <tr>\n",
       "      <th>1</th>\n",
       "      <td>2</td>\n",
       "      <td>y</td>\n",
       "      <td></td>\n",
       "    </tr>\n",
       "    <tr>\n",
       "      <th>2</th>\n",
       "      <td>3</td>\n",
       "      <td>z</td>\n",
       "      <td></td>\n",
       "    </tr>\n",
       "  </tbody>\n",
       "</table>\n",
       "</div>"
      ],
      "text/plain": [
       "   A  B comment\n",
       "0  1  x        \n",
       "1  2  y        \n",
       "2  3  z        "
      ]
     },
     "metadata": {},
     "output_type": "display_data"
    },
    {
     "data": {
      "application/vnd.jupyter.widget-view+json": {
       "model_id": "25e96fbfaec64f748357acde433a4832",
       "version_major": 2,
       "version_minor": 0
      },
      "text/plain": [
       "Button(description='click', style=ButtonStyle())"
      ]
     },
     "metadata": {},
     "output_type": "display_data"
    },
    {
     "data": {
      "application/vnd.jupyter.widget-view+json": {
       "model_id": "effcd261549a479997924ce025566465",
       "version_major": 2,
       "version_minor": 0
      },
      "text/plain": [
       "Button(description='click', style=ButtonStyle())"
      ]
     },
     "metadata": {},
     "output_type": "display_data"
    },
    {
     "data": {
      "application/vnd.jupyter.widget-view+json": {
       "model_id": "ed0b4c0574444e2eace2f37cdb14e229",
       "version_major": 2,
       "version_minor": 0
      },
      "text/plain": [
       "Button(description='click', style=ButtonStyle())"
      ]
     },
     "metadata": {},
     "output_type": "display_data"
    }
   ],
   "source": [
    "import pandas as pd\n",
    "import ipywidgets as widgets\n",
    "from IPython.display import display\n",
    "import warnings\n",
    "warnings.filterwarnings('ignore')\n",
    "\n",
    "\n",
    "class MyFrame(pd.DataFrame):\n",
    "    # 追加したい属性のみを__slots__に記述\n",
    "    __slots__ = ['_df_show']\n",
    "\n",
    "    def __init__(self, *args, **kwargs):\n",
    "        super().__init__(*args, **kwargs)\n",
    "        self._df_show = self.copy()\n",
    "\n",
    "    def add_button(self, a_func, col_name_button=\"button\", button_text=\"click\"):\n",
    "        def on_button_click(row, btn):\n",
    "            a_func(row)\n",
    "\n",
    "        # ボタンオブジェクトを一時的に格納するリスト\n",
    "        buttons = []\n",
    "\n",
    "        # 各行に対してボタンを作成\n",
    "        for _, row in self.iterrows():\n",
    "            button = self._create_button(row, on_button_click, button_text)\n",
    "            buttons.append(button)\n",
    "\n",
    "        # ボタンオブジェクトのリストを使用して、_df_showの該当列を更新\n",
    "        self._df_show[col_name_button] = buttons\n",
    "\n",
    "    def _create_button(self, row, callback, button_text):\n",
    "        button = widgets.Button(description=button_text)\n",
    "        button.on_click(lambda btn, row=row: callback(row, btn))\n",
    "        return button  # 実際のボタンオブジェクトを返す\n",
    "\n",
    "    def add_comments(self, a_func, col_name_comment=\"comment\"):\n",
    "        # テキスト入力の列をself._df_showに追加\n",
    "        self._df_show[col_name_comment] = self.apply(lambda row: self._create_text(row, a_func), axis=1)\n",
    "\n",
    "    def _create_text(self, row, callback):\n",
    "        text_input = widgets.Text(value='')\n",
    "        def on_text_change(change):\n",
    "            callback(change[\"new\"], row)\n",
    "        text_input.observe(on_text_change, names='value')\n",
    "        display(text_input)\n",
    "        return ''\n",
    "\n",
    "    def show(self):\n",
    "        # 先に通常のデータフレームとして表示\n",
    "        display(self._df_show.drop(columns=['button'], errors='ignore'))\n",
    "        \n",
    "        # button列が存在する場合、それを表示\n",
    "        if 'button' in self._df_show.columns:\n",
    "            for _, btn in self._df_show['button'].iteritems():\n",
    "                display(btn)\n",
    "\n",
    "\n",
    "# サンプル関数\n",
    "def button_func(row):\n",
    "    print(f\"Clicked row: {row['A']}\")\n",
    "\n",
    "def comment_func(value, row):\n",
    "    print(f\"Commented \\\"{value}\\\" on row: {row['A']}\")\n",
    "\n",
    "# サンプルデータ\n",
    "data = {\n",
    "    'A': [1, 2, 3],\n",
    "    'B': ['x', 'y', 'z']\n",
    "}\n",
    "\n",
    "# MyFrameのインスタンスを作成\n",
    "df = MyFrame(data)\n",
    "df.add_button(button_func)\n",
    "df.add_comments(comment_func)\n",
    "df.show()\n"
   ]
  },
  {
   "cell_type": "code",
   "execution_count": 19,
   "id": "443ee494-159e-4b9c-808d-9b8d76dbd5ea",
   "metadata": {},
   "outputs": [
    {
     "data": {
      "text/html": [
       "<div>\n",
       "<style scoped>\n",
       "    .dataframe tbody tr th:only-of-type {\n",
       "        vertical-align: middle;\n",
       "    }\n",
       "\n",
       "    .dataframe tbody tr th {\n",
       "        vertical-align: top;\n",
       "    }\n",
       "\n",
       "    .dataframe thead th {\n",
       "        text-align: right;\n",
       "    }\n",
       "</style>\n",
       "<table border=\"1\" class=\"dataframe\">\n",
       "  <thead>\n",
       "    <tr style=\"text-align: right;\">\n",
       "      <th></th>\n",
       "      <th>A</th>\n",
       "      <th>B</th>\n",
       "    </tr>\n",
       "  </thead>\n",
       "  <tbody>\n",
       "    <tr>\n",
       "      <th>0</th>\n",
       "      <td>1</td>\n",
       "      <td>x</td>\n",
       "    </tr>\n",
       "    <tr>\n",
       "      <th>1</th>\n",
       "      <td>2</td>\n",
       "      <td>y</td>\n",
       "    </tr>\n",
       "    <tr>\n",
       "      <th>2</th>\n",
       "      <td>3</td>\n",
       "      <td>z</td>\n",
       "    </tr>\n",
       "  </tbody>\n",
       "</table>\n",
       "</div>"
      ],
      "text/plain": [
       "   A  B\n",
       "0  1  x\n",
       "1  2  y\n",
       "2  3  z"
      ]
     },
     "metadata": {},
     "output_type": "display_data"
    },
    {
     "data": {
      "application/vnd.jupyter.widget-view+json": {
       "model_id": "0460173096924726adb803c054cdbabd",
       "version_major": 2,
       "version_minor": 0
      },
      "text/plain": [
       "Button(description='click', style=ButtonStyle())"
      ]
     },
     "metadata": {},
     "output_type": "display_data"
    },
    {
     "data": {
      "application/vnd.jupyter.widget-view+json": {
       "model_id": "38427f30bbd14c0f9860e4c5a1a676f6",
       "version_major": 2,
       "version_minor": 0
      },
      "text/plain": [
       "Button(description='click', style=ButtonStyle())"
      ]
     },
     "metadata": {},
     "output_type": "display_data"
    },
    {
     "data": {
      "application/vnd.jupyter.widget-view+json": {
       "model_id": "e960d2c2a18442ae835226a8565ee010",
       "version_major": 2,
       "version_minor": 0
      },
      "text/plain": [
       "Button(description='click', style=ButtonStyle())"
      ]
     },
     "metadata": {},
     "output_type": "display_data"
    }
   ],
   "source": [
    "import pandas as pd\n",
    "import ipywidgets as widgets\n",
    "from IPython.display import display\n",
    "import warnings\n",
    "warnings.filterwarnings('ignore')\n",
    "\n",
    "\n",
    "class MyFrame(pd.DataFrame):\n",
    "    # 追加したい属性のみを__slots__に記述\n",
    "    __slots__ = ['_df_show']\n",
    "\n",
    "    def __init__(self, *args, **kwargs):\n",
    "        super().__init__(*args, **kwargs)\n",
    "        self._df_show = self.copy()\n",
    "\n",
    "    def add_button(self, a_func, col_name_button=\"button\", button_text=\"click\"):\n",
    "        def on_button_click(row, btn):\n",
    "            a_func(row)\n",
    "\n",
    "        # ボタンオブジェクトを一時的に格納するリスト\n",
    "        buttons = []\n",
    "\n",
    "        # 各行に対してボタンを作成\n",
    "        for _, row in self.iterrows():\n",
    "            button = self._create_button(row, on_button_click, button_text)\n",
    "            buttons.append(button)\n",
    "\n",
    "        # ボタンオブジェクトのリストを使用して、_df_showの該当列を更新\n",
    "        self._df_show[col_name_button] = buttons\n",
    "\n",
    "    def _create_button(self, row, callback, button_text):\n",
    "        button = widgets.Button(description=button_text)\n",
    "        button.on_click(lambda btn, row=row: callback(row, btn))\n",
    "        return button  # 実際のボタンオブジェクトを返す\n",
    "\n",
    "    def show(self):\n",
    "        # 先に通常のデータフレームとして表示\n",
    "        display(self._df_show.drop(columns=['button'], errors='ignore'))\n",
    "        \n",
    "        # button列が存在する場合、それを表示\n",
    "        if 'button' in self._df_show.columns:\n",
    "            for _, btn in self._df_show['button'].iteritems():\n",
    "                display(btn)\n",
    "\n",
    "\n",
    "# サンプル関数\n",
    "from IPython.display import display, HTML\n",
    "\n",
    "def button_func(row):\n",
    "    display(HTML(f\"Clicked row: {row['A']}\"))\n",
    "\n",
    "# サンプルデータ\n",
    "data = {\n",
    "    'A': [1, 2, 3],\n",
    "    'B': ['x', 'y', 'z']\n",
    "}\n",
    "\n",
    "# MyFrameのインスタンスを作成\n",
    "df = MyFrame(data)\n",
    "df.add_button(button_func)\n",
    "df.show()\n"
   ]
  },
  {
   "cell_type": "code",
   "execution_count": 20,
   "id": "c3e7a59a-f250-486a-8f84-b97f7a4f73c9",
   "metadata": {},
   "outputs": [
    {
     "data": {
      "text/html": [
       "<div>\n",
       "<style scoped>\n",
       "    .dataframe tbody tr th:only-of-type {\n",
       "        vertical-align: middle;\n",
       "    }\n",
       "\n",
       "    .dataframe tbody tr th {\n",
       "        vertical-align: top;\n",
       "    }\n",
       "\n",
       "    .dataframe thead th {\n",
       "        text-align: right;\n",
       "    }\n",
       "</style>\n",
       "<table border=\"1\" class=\"dataframe\">\n",
       "  <thead>\n",
       "    <tr style=\"text-align: right;\">\n",
       "      <th></th>\n",
       "      <th>A</th>\n",
       "      <th>B</th>\n",
       "    </tr>\n",
       "  </thead>\n",
       "  <tbody>\n",
       "    <tr>\n",
       "      <th>0</th>\n",
       "      <td>1</td>\n",
       "      <td>x</td>\n",
       "    </tr>\n",
       "    <tr>\n",
       "      <th>1</th>\n",
       "      <td>2</td>\n",
       "      <td>y</td>\n",
       "    </tr>\n",
       "    <tr>\n",
       "      <th>2</th>\n",
       "      <td>3</td>\n",
       "      <td>z</td>\n",
       "    </tr>\n",
       "  </tbody>\n",
       "</table>\n",
       "</div>"
      ],
      "text/plain": [
       "   A  B\n",
       "0  1  x\n",
       "1  2  y\n",
       "2  3  z"
      ]
     },
     "metadata": {},
     "output_type": "display_data"
    },
    {
     "data": {
      "application/vnd.jupyter.widget-view+json": {
       "model_id": "56944b9f72674fb09780840989571180",
       "version_major": 2,
       "version_minor": 0
      },
      "text/plain": [
       "Button(description='click', style=ButtonStyle())"
      ]
     },
     "metadata": {},
     "output_type": "display_data"
    },
    {
     "data": {
      "application/vnd.jupyter.widget-view+json": {
       "model_id": "5b20f2fee1a54c8987d097d0002b1dda",
       "version_major": 2,
       "version_minor": 0
      },
      "text/plain": [
       "Button(description='click', style=ButtonStyle())"
      ]
     },
     "metadata": {},
     "output_type": "display_data"
    },
    {
     "data": {
      "application/vnd.jupyter.widget-view+json": {
       "model_id": "b5f0f8db10a44c1cba4c22324f6e7498",
       "version_major": 2,
       "version_minor": 0
      },
      "text/plain": [
       "Button(description='click', style=ButtonStyle())"
      ]
     },
     "metadata": {},
     "output_type": "display_data"
    },
    {
     "data": {
      "application/vnd.jupyter.widget-view+json": {
       "model_id": "23bb898e59d9469cb77080bbd1968123",
       "version_major": 2,
       "version_minor": 0
      },
      "text/plain": [
       "Output()"
      ]
     },
     "metadata": {},
     "output_type": "display_data"
    }
   ],
   "source": [
    "import pandas as pd\n",
    "import ipywidgets as widgets\n",
    "from IPython.display import display\n",
    "import warnings\n",
    "warnings.filterwarnings('ignore')\n",
    "\n",
    "class MyFrame(pd.DataFrame):\n",
    "    __slots__ = ['_df_show', '_output_widget']\n",
    "\n",
    "    def __init__(self, *args, **kwargs):\n",
    "        super().__init__(*args, **kwargs)\n",
    "        self._df_show = self.copy()\n",
    "        self._output_widget = widgets.Output()\n",
    "\n",
    "    def add_button(self, a_func, col_name_button=\"button\", button_text=\"click\"):\n",
    "        def on_button_click(row, btn):\n",
    "            with self._output_widget:\n",
    "                a_func(row)\n",
    "\n",
    "        buttons = []\n",
    "        for _, row in self.iterrows():\n",
    "            button = self._create_button(row, on_button_click, button_text)\n",
    "            buttons.append(button)\n",
    "        self._df_show[col_name_button] = buttons\n",
    "\n",
    "    def _create_button(self, row, callback, button_text):\n",
    "        button = widgets.Button(description=button_text)\n",
    "        button.on_click(lambda btn, row=row: callback(row, btn))\n",
    "        return button\n",
    "\n",
    "    def show(self):\n",
    "        display(self._df_show.drop(columns=['button'], errors='ignore'))\n",
    "        if 'button' in self._df_show.columns:\n",
    "            for _, btn in self._df_show['button'].iteritems():\n",
    "                display(btn)\n",
    "        display(self._output_widget)\n",
    "\n",
    "def button_func(row):\n",
    "    print(f\"Clicked row: {row['A']}\")\n",
    "\n",
    "data = {\n",
    "    'A': [1, 2, 3],\n",
    "    'B': ['x', 'y', 'z']\n",
    "}\n",
    "\n",
    "df = MyFrame(data)\n",
    "df.add_button(button_func)\n",
    "df.show()\n"
   ]
  },
  {
   "cell_type": "code",
   "execution_count": 21,
   "id": "90d3a7c4-db23-49a1-93e2-7f49bfc93132",
   "metadata": {},
   "outputs": [
    {
     "data": {
      "application/vnd.jupyter.widget-view+json": {
       "model_id": "f71862ef265b4cfdbdc6792104e2e5ba",
       "version_major": 2,
       "version_minor": 0
      },
      "text/plain": [
       "HBox(children=(Output(), Button(description='click', style=ButtonStyle()), Button(description='click', style=B…"
      ]
     },
     "metadata": {},
     "output_type": "display_data"
    },
    {
     "data": {
      "application/vnd.jupyter.widget-view+json": {
       "model_id": "6c7ab5eea70a44849386f8843e7f263a",
       "version_major": 2,
       "version_minor": 0
      },
      "text/plain": [
       "Output()"
      ]
     },
     "metadata": {},
     "output_type": "display_data"
    }
   ],
   "source": [
    "import pandas as pd\n",
    "import ipywidgets as widgets\n",
    "from IPython.display import display\n",
    "import warnings\n",
    "warnings.filterwarnings('ignore')\n",
    "\n",
    "class MyFrame(pd.DataFrame):\n",
    "    __slots__ = ['_df_show', '_output_widget', '_df_output_widget']\n",
    "\n",
    "    def __init__(self, *args, **kwargs):\n",
    "        super().__init__(*args, **kwargs)\n",
    "        self._df_show = self.copy()\n",
    "        self._output_widget = widgets.Output()\n",
    "        self._df_output_widget = widgets.Output()\n",
    "\n",
    "    def add_button(self, a_func, col_name_button=\"button\", button_text=\"click\"):\n",
    "        def on_button_click(row, btn):\n",
    "            with self._output_widget:\n",
    "                a_func(row)\n",
    "\n",
    "        buttons = []\n",
    "        for _, row in self.iterrows():\n",
    "            button = self._create_button(row, on_button_click, button_text)\n",
    "            buttons.append(button)\n",
    "        self._df_show[col_name_button] = buttons\n",
    "\n",
    "    def _create_button(self, row, callback, button_text):\n",
    "        button = widgets.Button(description=button_text)\n",
    "        button.on_click(lambda btn, row=row: callback(row, btn))\n",
    "        return button\n",
    "\n",
    "    def show(self):\n",
    "        with self._df_output_widget:\n",
    "            display(self._df_show.drop(columns=['button'], errors='ignore'))\n",
    "\n",
    "        items = [self._df_output_widget]\n",
    "\n",
    "        if 'button' in self._df_show.columns:\n",
    "            for _, btn in self._df_show['button'].iteritems():\n",
    "                items.append(btn)\n",
    "\n",
    "        display(widgets.HBox(items))\n",
    "        display(self._output_widget)\n",
    "\n",
    "def button_func(row):\n",
    "    print(f\"Clicked row: {row['A']}\")\n",
    "\n",
    "data = {\n",
    "    'A': [1, 2, 3],\n",
    "    'B': ['x', 'y', 'z']\n",
    "}\n",
    "\n",
    "df = MyFrame(data)\n",
    "df.add_button(button_func)\n",
    "df.show()\n"
   ]
  },
  {
   "cell_type": "code",
   "execution_count": 22,
   "id": "d7c818ce-8d8c-4b82-b7ba-8f8c290c0e71",
   "metadata": {},
   "outputs": [
    {
     "data": {
      "application/vnd.jupyter.widget-view+json": {
       "model_id": "bb5a59ce03b445979ba6dfa2c0c26255",
       "version_major": 2,
       "version_minor": 0
      },
      "text/plain": [
       "HBox(children=(VBox(children=(Button(description='click', style=ButtonStyle()), Button(description='click', st…"
      ]
     },
     "metadata": {},
     "output_type": "display_data"
    },
    {
     "data": {
      "application/vnd.jupyter.widget-view+json": {
       "model_id": "db647ff921da4c5cbf419421a023f76f",
       "version_major": 2,
       "version_minor": 0
      },
      "text/plain": [
       "Output()"
      ]
     },
     "metadata": {},
     "output_type": "display_data"
    }
   ],
   "source": [
    "import pandas as pd\n",
    "import ipywidgets as widgets\n",
    "from IPython.display import display\n",
    "import warnings\n",
    "warnings.filterwarnings('ignore')\n",
    "\n",
    "class MyFrame(pd.DataFrame):\n",
    "    __slots__ = ['_df_show', '_output_widget', '_df_output_widget']\n",
    "\n",
    "    def __init__(self, *args, **kwargs):\n",
    "        super().__init__(*args, **kwargs)\n",
    "        self._df_show = self.copy()\n",
    "        self._output_widget = widgets.Output()\n",
    "        self._df_output_widget = widgets.Output()\n",
    "\n",
    "    def add_button(self, a_func, col_name_button=\"button\", button_text=\"click\"):\n",
    "        def on_button_click(row, btn):\n",
    "            with self._output_widget:\n",
    "                a_func(row)\n",
    "\n",
    "        buttons = []\n",
    "        for _, row in self.iterrows():\n",
    "            button = self._create_button(row, on_button_click, button_text)\n",
    "            buttons.append(button)\n",
    "        self._df_show[col_name_button] = buttons\n",
    "\n",
    "    def _create_button(self, row, callback, button_text):\n",
    "        button = widgets.Button(description=button_text)\n",
    "        button.on_click(lambda btn, row=row: callback(row, btn))\n",
    "        return button\n",
    "\n",
    "    def show(self):\n",
    "        with self._df_output_widget:\n",
    "            display(self._df_show.drop(columns=['button'], errors='ignore'))\n",
    "\n",
    "        button_widgets = []\n",
    "\n",
    "        if 'button' in self._df_show.columns:\n",
    "            for _, btn in self._df_show['button'].iteritems():\n",
    "                button_widgets.append(btn)\n",
    "\n",
    "        # ボタンをVBoxで囲み、ボタンとデータフレームをHBoxで囲む\n",
    "        hbox = widgets.HBox([widgets.VBox(button_widgets), self._df_output_widget])\n",
    "        display(hbox)\n",
    "        display(self._output_widget)\n",
    "\n",
    "def button_func(row):\n",
    "    print(f\"Clicked row: {row['A']}\")\n",
    "\n",
    "data = {\n",
    "    'A': [1, 2, 3],\n",
    "    'B': ['x', 'y', 'z']\n",
    "}\n",
    "\n",
    "df = MyFrame(data)\n",
    "df.add_button(button_func)\n",
    "df.show()\n"
   ]
  },
  {
   "cell_type": "code",
   "execution_count": 23,
   "id": "9a4ae71f-9201-4078-b38e-57ae4db99e48",
   "metadata": {},
   "outputs": [
    {
     "ename": "TraitError",
     "evalue": "The 'children' trait of a HBox instance contains an Instance of a TypedTuple which expected a Widget, not the DataFrame    A  B\n0  1  x\n1  2  y\n2  3  z.",
     "output_type": "error",
     "traceback": [
      "\u001b[0;31m---------------------------------------------------------------------------\u001b[0m",
      "\u001b[0;31mTraitError\u001b[0m                                Traceback (most recent call last)",
      "Cell \u001b[0;32mIn[23], line 46\u001b[0m\n\u001b[1;32m     44\u001b[0m df \u001b[38;5;241m=\u001b[39m MyFrame(data)\n\u001b[1;32m     45\u001b[0m df\u001b[38;5;241m.\u001b[39madd_button(button_func)\n\u001b[0;32m---> 46\u001b[0m df\u001b[38;5;241m.\u001b[39mshow()\n",
      "Cell \u001b[0;32mIn[23], line 32\u001b[0m, in \u001b[0;36mMyFrame.show\u001b[0;34m(self)\u001b[0m\n\u001b[1;32m     30\u001b[0m \u001b[38;5;28;01mdef\u001b[39;00m \u001b[38;5;21mshow\u001b[39m(\u001b[38;5;28mself\u001b[39m):\n\u001b[1;32m     31\u001b[0m     \u001b[38;5;66;03m# データフレームとボタンをHBoxで表示\u001b[39;00m\n\u001b[0;32m---> 32\u001b[0m     hbox \u001b[38;5;241m=\u001b[39m widgets\u001b[38;5;241m.\u001b[39mHBox([widgets\u001b[38;5;241m.\u001b[39mVBox(\u001b[38;5;28mself\u001b[39m\u001b[38;5;241m.\u001b[39m_buttons), \u001b[38;5;28mself\u001b[39m\u001b[38;5;241m.\u001b[39m_df_show\u001b[38;5;241m.\u001b[39mdrop(columns\u001b[38;5;241m=\u001b[39m[\u001b[38;5;124m'\u001b[39m\u001b[38;5;124mbutton\u001b[39m\u001b[38;5;124m'\u001b[39m], errors\u001b[38;5;241m=\u001b[39m\u001b[38;5;124m'\u001b[39m\u001b[38;5;124mignore\u001b[39m\u001b[38;5;124m'\u001b[39m)])\n\u001b[1;32m     33\u001b[0m     display(hbox)\n\u001b[1;32m     34\u001b[0m     display(\u001b[38;5;28mself\u001b[39m\u001b[38;5;241m.\u001b[39m_output_widget)\n",
      "File \u001b[0;32m~/anaconda3/lib/python3.11/site-packages/ipywidgets/widgets/widget_box.py:64\u001b[0m, in \u001b[0;36mBox.__init__\u001b[0;34m(self, children, **kwargs)\u001b[0m\n\u001b[1;32m     62\u001b[0m \u001b[38;5;28;01mdef\u001b[39;00m \u001b[38;5;21m__init__\u001b[39m(\u001b[38;5;28mself\u001b[39m, children\u001b[38;5;241m=\u001b[39m(), \u001b[38;5;241m*\u001b[39m\u001b[38;5;241m*\u001b[39mkwargs):\n\u001b[1;32m     63\u001b[0m     kwargs[\u001b[38;5;124m'\u001b[39m\u001b[38;5;124mchildren\u001b[39m\u001b[38;5;124m'\u001b[39m] \u001b[38;5;241m=\u001b[39m children\n\u001b[0;32m---> 64\u001b[0m     \u001b[38;5;28msuper\u001b[39m()\u001b[38;5;241m.\u001b[39m\u001b[38;5;21m__init__\u001b[39m(\u001b[38;5;241m*\u001b[39m\u001b[38;5;241m*\u001b[39mkwargs)\n",
      "File \u001b[0;32m~/anaconda3/lib/python3.11/site-packages/ipywidgets/widgets/widget.py:502\u001b[0m, in \u001b[0;36mWidget.__init__\u001b[0;34m(self, **kwargs)\u001b[0m\n\u001b[1;32m    500\u001b[0m \u001b[38;5;250m\u001b[39m\u001b[38;5;124;03m\"\"\"Public constructor\"\"\"\u001b[39;00m\n\u001b[1;32m    501\u001b[0m \u001b[38;5;28mself\u001b[39m\u001b[38;5;241m.\u001b[39m_model_id \u001b[38;5;241m=\u001b[39m kwargs\u001b[38;5;241m.\u001b[39mpop(\u001b[38;5;124m'\u001b[39m\u001b[38;5;124mmodel_id\u001b[39m\u001b[38;5;124m'\u001b[39m, \u001b[38;5;28;01mNone\u001b[39;00m)\n\u001b[0;32m--> 502\u001b[0m \u001b[38;5;28msuper\u001b[39m()\u001b[38;5;241m.\u001b[39m\u001b[38;5;21m__init__\u001b[39m(\u001b[38;5;241m*\u001b[39m\u001b[38;5;241m*\u001b[39mkwargs)\n\u001b[1;32m    504\u001b[0m Widget\u001b[38;5;241m.\u001b[39m_call_widget_constructed(\u001b[38;5;28mself\u001b[39m)\n\u001b[1;32m    505\u001b[0m \u001b[38;5;28mself\u001b[39m\u001b[38;5;241m.\u001b[39mopen()\n",
      "File \u001b[0;32m~/anaconda3/lib/python3.11/site-packages/traitlets/traitlets.py:1343\u001b[0m, in \u001b[0;36mHasTraits.__init__\u001b[0;34m(self, *args, **kwargs)\u001b[0m\n\u001b[1;32m   1341\u001b[0m \u001b[38;5;28;01mfor\u001b[39;00m key, value \u001b[38;5;129;01min\u001b[39;00m kwargs\u001b[38;5;241m.\u001b[39mitems():\n\u001b[1;32m   1342\u001b[0m     \u001b[38;5;28;01mif\u001b[39;00m \u001b[38;5;28mself\u001b[39m\u001b[38;5;241m.\u001b[39mhas_trait(key):\n\u001b[0;32m-> 1343\u001b[0m         \u001b[38;5;28msetattr\u001b[39m(\u001b[38;5;28mself\u001b[39m, key, value)\n\u001b[1;32m   1344\u001b[0m         changes[key] \u001b[38;5;241m=\u001b[39m Bunch(\n\u001b[1;32m   1345\u001b[0m             name\u001b[38;5;241m=\u001b[39mkey,\n\u001b[1;32m   1346\u001b[0m             old\u001b[38;5;241m=\u001b[39m\u001b[38;5;28;01mNone\u001b[39;00m,\n\u001b[0;32m   (...)\u001b[0m\n\u001b[1;32m   1349\u001b[0m             \u001b[38;5;28mtype\u001b[39m\u001b[38;5;241m=\u001b[39m\u001b[38;5;124m\"\u001b[39m\u001b[38;5;124mchange\u001b[39m\u001b[38;5;124m\"\u001b[39m,\n\u001b[1;32m   1350\u001b[0m         )\n\u001b[1;32m   1351\u001b[0m     \u001b[38;5;28;01melse\u001b[39;00m:\n\u001b[1;32m   1352\u001b[0m         \u001b[38;5;66;03m# passthrough args that don't set traits to super\u001b[39;00m\n",
      "File \u001b[0;32m~/anaconda3/lib/python3.11/site-packages/traitlets/traitlets.py:729\u001b[0m, in \u001b[0;36mTraitType.__set__\u001b[0;34m(self, obj, value)\u001b[0m\n\u001b[1;32m    727\u001b[0m     \u001b[38;5;28;01mraise\u001b[39;00m TraitError(\u001b[38;5;124m'\u001b[39m\u001b[38;5;124mThe \u001b[39m\u001b[38;5;124m\"\u001b[39m\u001b[38;5;132;01m%s\u001b[39;00m\u001b[38;5;124m\"\u001b[39m\u001b[38;5;124m trait is read-only.\u001b[39m\u001b[38;5;124m'\u001b[39m \u001b[38;5;241m%\u001b[39m \u001b[38;5;28mself\u001b[39m\u001b[38;5;241m.\u001b[39mname)\n\u001b[1;32m    728\u001b[0m \u001b[38;5;28;01melse\u001b[39;00m:\n\u001b[0;32m--> 729\u001b[0m     \u001b[38;5;28mself\u001b[39m\u001b[38;5;241m.\u001b[39mset(obj, value)\n",
      "File \u001b[0;32m~/anaconda3/lib/python3.11/site-packages/traitlets/traitlets.py:703\u001b[0m, in \u001b[0;36mTraitType.set\u001b[0;34m(self, obj, value)\u001b[0m\n\u001b[1;32m    702\u001b[0m \u001b[38;5;28;01mdef\u001b[39;00m \u001b[38;5;21mset\u001b[39m(\u001b[38;5;28mself\u001b[39m, obj, value):\n\u001b[0;32m--> 703\u001b[0m     new_value \u001b[38;5;241m=\u001b[39m \u001b[38;5;28mself\u001b[39m\u001b[38;5;241m.\u001b[39m_validate(obj, value)\n\u001b[1;32m    704\u001b[0m     \u001b[38;5;28;01mtry\u001b[39;00m:\n\u001b[1;32m    705\u001b[0m         old_value \u001b[38;5;241m=\u001b[39m obj\u001b[38;5;241m.\u001b[39m_trait_values[\u001b[38;5;28mself\u001b[39m\u001b[38;5;241m.\u001b[39mname]\n",
      "File \u001b[0;32m~/anaconda3/lib/python3.11/site-packages/traitlets/traitlets.py:735\u001b[0m, in \u001b[0;36mTraitType._validate\u001b[0;34m(self, obj, value)\u001b[0m\n\u001b[1;32m    733\u001b[0m     \u001b[38;5;28;01mreturn\u001b[39;00m value\n\u001b[1;32m    734\u001b[0m \u001b[38;5;28;01mif\u001b[39;00m \u001b[38;5;28mhasattr\u001b[39m(\u001b[38;5;28mself\u001b[39m, \u001b[38;5;124m\"\u001b[39m\u001b[38;5;124mvalidate\u001b[39m\u001b[38;5;124m\"\u001b[39m):\n\u001b[0;32m--> 735\u001b[0m     value \u001b[38;5;241m=\u001b[39m \u001b[38;5;28mself\u001b[39m\u001b[38;5;241m.\u001b[39mvalidate(obj, value)\n\u001b[1;32m    736\u001b[0m \u001b[38;5;28;01mif\u001b[39;00m obj\u001b[38;5;241m.\u001b[39m_cross_validation_lock \u001b[38;5;129;01mis\u001b[39;00m \u001b[38;5;28;01mFalse\u001b[39;00m:\n\u001b[1;32m    737\u001b[0m     value \u001b[38;5;241m=\u001b[39m \u001b[38;5;28mself\u001b[39m\u001b[38;5;241m.\u001b[39m_cross_validate(obj, value)\n",
      "File \u001b[0;32m~/anaconda3/lib/python3.11/site-packages/traitlets/traitlets.py:2856\u001b[0m, in \u001b[0;36mContainer.validate\u001b[0;34m(self, obj, value)\u001b[0m\n\u001b[1;32m   2853\u001b[0m \u001b[38;5;28;01mif\u001b[39;00m value \u001b[38;5;129;01mis\u001b[39;00m \u001b[38;5;28;01mNone\u001b[39;00m:\n\u001b[1;32m   2854\u001b[0m     \u001b[38;5;28;01mreturn\u001b[39;00m value\n\u001b[0;32m-> 2856\u001b[0m value \u001b[38;5;241m=\u001b[39m \u001b[38;5;28mself\u001b[39m\u001b[38;5;241m.\u001b[39mvalidate_elements(obj, value)\n\u001b[1;32m   2858\u001b[0m \u001b[38;5;28;01mreturn\u001b[39;00m value\n",
      "File \u001b[0;32m~/anaconda3/lib/python3.11/site-packages/traitlets/traitlets.py:2868\u001b[0m, in \u001b[0;36mContainer.validate_elements\u001b[0;34m(self, obj, value)\u001b[0m\n\u001b[1;32m   2866\u001b[0m     v \u001b[38;5;241m=\u001b[39m \u001b[38;5;28mself\u001b[39m\u001b[38;5;241m.\u001b[39m_trait\u001b[38;5;241m.\u001b[39m_validate(obj, v)\n\u001b[1;32m   2867\u001b[0m \u001b[38;5;28;01mexcept\u001b[39;00m TraitError \u001b[38;5;28;01mas\u001b[39;00m error:\n\u001b[0;32m-> 2868\u001b[0m     \u001b[38;5;28mself\u001b[39m\u001b[38;5;241m.\u001b[39merror(obj, v, error)\n\u001b[1;32m   2869\u001b[0m \u001b[38;5;28;01melse\u001b[39;00m:\n\u001b[1;32m   2870\u001b[0m     validated\u001b[38;5;241m.\u001b[39mappend(v)\n",
      "File \u001b[0;32m~/anaconda3/lib/python3.11/site-packages/traitlets/traitlets.py:820\u001b[0m, in \u001b[0;36mTraitType.error\u001b[0;34m(self, obj, value, error, info)\u001b[0m\n\u001b[1;32m    809\u001b[0m         \u001b[38;5;28;01melse\u001b[39;00m:\n\u001b[1;32m    810\u001b[0m             error\u001b[38;5;241m.\u001b[39margs \u001b[38;5;241m=\u001b[39m (\n\u001b[1;32m    811\u001b[0m                 \u001b[38;5;124m\"\u001b[39m\u001b[38;5;124mThe \u001b[39m\u001b[38;5;124m'\u001b[39m\u001b[38;5;132;01m%s\u001b[39;00m\u001b[38;5;124m'\u001b[39m\u001b[38;5;124m trait contains \u001b[39m\u001b[38;5;132;01m%s\u001b[39;00m\u001b[38;5;124m which \u001b[39m\u001b[38;5;124m\"\u001b[39m\n\u001b[1;32m    812\u001b[0m                 \u001b[38;5;124m\"\u001b[39m\u001b[38;5;124mexpected \u001b[39m\u001b[38;5;132;01m%s\u001b[39;00m\u001b[38;5;124m, not \u001b[39m\u001b[38;5;132;01m%s\u001b[39;00m\u001b[38;5;124m.\u001b[39m\u001b[38;5;124m\"\u001b[39m\n\u001b[0;32m   (...)\u001b[0m\n\u001b[1;32m    818\u001b[0m                 ),\n\u001b[1;32m    819\u001b[0m             )\n\u001b[0;32m--> 820\u001b[0m     \u001b[38;5;28;01mraise\u001b[39;00m error\n\u001b[1;32m    821\u001b[0m \u001b[38;5;28;01melse\u001b[39;00m:\n\u001b[1;32m    822\u001b[0m     \u001b[38;5;66;03m# this trait caused an error\u001b[39;00m\n\u001b[1;32m    823\u001b[0m     \u001b[38;5;28;01mif\u001b[39;00m \u001b[38;5;28mself\u001b[39m\u001b[38;5;241m.\u001b[39mname \u001b[38;5;129;01mis\u001b[39;00m \u001b[38;5;28;01mNone\u001b[39;00m:\n\u001b[1;32m    824\u001b[0m         \u001b[38;5;66;03m# this is not the root trait\u001b[39;00m\n",
      "File \u001b[0;32m~/anaconda3/lib/python3.11/site-packages/traitlets/traitlets.py:2866\u001b[0m, in \u001b[0;36mContainer.validate_elements\u001b[0;34m(self, obj, value)\u001b[0m\n\u001b[1;32m   2864\u001b[0m \u001b[38;5;28;01mfor\u001b[39;00m v \u001b[38;5;129;01min\u001b[39;00m value:\n\u001b[1;32m   2865\u001b[0m     \u001b[38;5;28;01mtry\u001b[39;00m:\n\u001b[0;32m-> 2866\u001b[0m         v \u001b[38;5;241m=\u001b[39m \u001b[38;5;28mself\u001b[39m\u001b[38;5;241m.\u001b[39m_trait\u001b[38;5;241m.\u001b[39m_validate(obj, v)\n\u001b[1;32m   2867\u001b[0m     \u001b[38;5;28;01mexcept\u001b[39;00m TraitError \u001b[38;5;28;01mas\u001b[39;00m error:\n\u001b[1;32m   2868\u001b[0m         \u001b[38;5;28mself\u001b[39m\u001b[38;5;241m.\u001b[39merror(obj, v, error)\n",
      "File \u001b[0;32m~/anaconda3/lib/python3.11/site-packages/traitlets/traitlets.py:735\u001b[0m, in \u001b[0;36mTraitType._validate\u001b[0;34m(self, obj, value)\u001b[0m\n\u001b[1;32m    733\u001b[0m     \u001b[38;5;28;01mreturn\u001b[39;00m value\n\u001b[1;32m    734\u001b[0m \u001b[38;5;28;01mif\u001b[39;00m \u001b[38;5;28mhasattr\u001b[39m(\u001b[38;5;28mself\u001b[39m, \u001b[38;5;124m\"\u001b[39m\u001b[38;5;124mvalidate\u001b[39m\u001b[38;5;124m\"\u001b[39m):\n\u001b[0;32m--> 735\u001b[0m     value \u001b[38;5;241m=\u001b[39m \u001b[38;5;28mself\u001b[39m\u001b[38;5;241m.\u001b[39mvalidate(obj, value)\n\u001b[1;32m    736\u001b[0m \u001b[38;5;28;01mif\u001b[39;00m obj\u001b[38;5;241m.\u001b[39m_cross_validation_lock \u001b[38;5;129;01mis\u001b[39;00m \u001b[38;5;28;01mFalse\u001b[39;00m:\n\u001b[1;32m    737\u001b[0m     value \u001b[38;5;241m=\u001b[39m \u001b[38;5;28mself\u001b[39m\u001b[38;5;241m.\u001b[39m_cross_validate(obj, value)\n",
      "File \u001b[0;32m~/anaconda3/lib/python3.11/site-packages/traitlets/traitlets.py:2147\u001b[0m, in \u001b[0;36mInstance.validate\u001b[0;34m(self, obj, value)\u001b[0m\n\u001b[1;32m   2145\u001b[0m     \u001b[38;5;28;01mreturn\u001b[39;00m value\n\u001b[1;32m   2146\u001b[0m \u001b[38;5;28;01melse\u001b[39;00m:\n\u001b[0;32m-> 2147\u001b[0m     \u001b[38;5;28mself\u001b[39m\u001b[38;5;241m.\u001b[39merror(obj, value)\n",
      "File \u001b[0;32m~/anaconda3/lib/python3.11/site-packages/traitlets/traitlets.py:825\u001b[0m, in \u001b[0;36mTraitType.error\u001b[0;34m(self, obj, value, error, info)\u001b[0m\n\u001b[1;32m    821\u001b[0m \u001b[38;5;28;01melse\u001b[39;00m:\n\u001b[1;32m    822\u001b[0m     \u001b[38;5;66;03m# this trait caused an error\u001b[39;00m\n\u001b[1;32m    823\u001b[0m     \u001b[38;5;28;01mif\u001b[39;00m \u001b[38;5;28mself\u001b[39m\u001b[38;5;241m.\u001b[39mname \u001b[38;5;129;01mis\u001b[39;00m \u001b[38;5;28;01mNone\u001b[39;00m:\n\u001b[1;32m    824\u001b[0m         \u001b[38;5;66;03m# this is not the root trait\u001b[39;00m\n\u001b[0;32m--> 825\u001b[0m         \u001b[38;5;28;01mraise\u001b[39;00m TraitError(value, info \u001b[38;5;129;01mor\u001b[39;00m \u001b[38;5;28mself\u001b[39m\u001b[38;5;241m.\u001b[39minfo(), \u001b[38;5;28mself\u001b[39m)\n\u001b[1;32m    826\u001b[0m     \u001b[38;5;28;01melse\u001b[39;00m:\n\u001b[1;32m    827\u001b[0m         \u001b[38;5;66;03m# this is the root trait\u001b[39;00m\n\u001b[1;32m    828\u001b[0m         \u001b[38;5;28;01mif\u001b[39;00m obj \u001b[38;5;129;01mis\u001b[39;00m \u001b[38;5;129;01mnot\u001b[39;00m \u001b[38;5;28;01mNone\u001b[39;00m:\n",
      "\u001b[0;31mTraitError\u001b[0m: The 'children' trait of a HBox instance contains an Instance of a TypedTuple which expected a Widget, not the DataFrame    A  B\n0  1  x\n1  2  y\n2  3  z."
     ]
    }
   ],
   "source": [
    "import pandas as pd\n",
    "import ipywidgets as widgets\n",
    "from IPython.display import display\n",
    "import warnings\n",
    "warnings.filterwarnings('ignore')\n",
    "\n",
    "class MyFrame(pd.DataFrame):\n",
    "    __slots__ = ['_df_show', '_output_widget']\n",
    "\n",
    "    def __init__(self, *args, **kwargs):\n",
    "        super().__init__(*args, **kwargs)\n",
    "        self._df_show = self.copy()\n",
    "        self._output_widget = widgets.Output()\n",
    "\n",
    "    def add_button(self, a_func, col_name_button=\"button\", button_text=\"click\"):\n",
    "        def on_button_click(row, btn):\n",
    "            with self._output_widget:\n",
    "                a_func(row)\n",
    "\n",
    "        self._buttons = []\n",
    "        for _, row in self.iterrows():\n",
    "            button = self._create_button(row, on_button_click, button_text)\n",
    "            self._buttons.append(button)\n",
    "\n",
    "    def _create_button(self, row, callback, button_text):\n",
    "        button = widgets.Button(description=button_text)\n",
    "        button.on_click(lambda btn, row=row: callback(row, btn))\n",
    "        return button\n",
    "\n",
    "    def show(self):\n",
    "        # データフレームとボタンをHBoxで表示\n",
    "        hbox = widgets.HBox([widgets.VBox(self._buttons), self._df_show.drop(columns=['button'], errors='ignore')])\n",
    "        display(hbox)\n",
    "        display(self._output_widget)\n",
    "\n",
    "def button_func(row):\n",
    "    print(f\"Clicked row: {row['A']}\")\n",
    "\n",
    "data = {\n",
    "    'A': [1, 2, 3],\n",
    "    'B': ['x', 'y', 'z']\n",
    "}\n",
    "\n",
    "df = MyFrame(data)\n",
    "df.add_button(button_func)\n",
    "df.show()\n"
   ]
  },
  {
   "cell_type": "code",
   "execution_count": 33,
   "id": "05f9d26f-d63a-4c1d-bf42-1a7c7cc4b70f",
   "metadata": {},
   "outputs": [
    {
     "ename": "TypeError",
     "evalue": "'module' object is not callable",
     "output_type": "error",
     "traceback": [
      "\u001b[0;31m---------------------------------------------------------------------------\u001b[0m",
      "\u001b[0;31mTypeError\u001b[0m                                 Traceback (most recent call last)",
      "Cell \u001b[0;32mIn[33], line 49\u001b[0m\n\u001b[1;32m     47\u001b[0m df \u001b[38;5;241m=\u001b[39m MyFrame(data)\n\u001b[1;32m     48\u001b[0m df\u001b[38;5;241m.\u001b[39madd_button(button_func)\n\u001b[0;32m---> 49\u001b[0m df\u001b[38;5;241m.\u001b[39mshow()\n",
      "Cell \u001b[0;32mIn[33], line 35\u001b[0m, in \u001b[0;36mMyFrame.show\u001b[0;34m(self)\u001b[0m\n\u001b[1;32m     32\u001b[0m \u001b[38;5;28mself\u001b[39m\u001b[38;5;241m.\u001b[39m_df_output \u001b[38;5;241m=\u001b[39m \u001b[38;5;28mself\u001b[39m\u001b[38;5;241m.\u001b[39m_df_show\u001b[38;5;241m.\u001b[39mdrop(columns\u001b[38;5;241m=\u001b[39m[\u001b[38;5;124m'\u001b[39m\u001b[38;5;124mbutton\u001b[39m\u001b[38;5;124m'\u001b[39m], errors\u001b[38;5;241m=\u001b[39m\u001b[38;5;124m'\u001b[39m\u001b[38;5;124mignore\u001b[39m\u001b[38;5;124m'\u001b[39m)\n\u001b[1;32m     34\u001b[0m \u001b[38;5;66;03m# データフレームとボタンをHBoxで表示\u001b[39;00m\n\u001b[0;32m---> 35\u001b[0m hbox \u001b[38;5;241m=\u001b[39m widgets(\u001b[38;5;28mself\u001b[39m\u001b[38;5;241m.\u001b[39m_df_output)\n\u001b[1;32m     36\u001b[0m display(hbox)\n\u001b[1;32m     37\u001b[0m display(\u001b[38;5;28mself\u001b[39m\u001b[38;5;241m.\u001b[39m_output_widget)\n",
      "\u001b[0;31mTypeError\u001b[0m: 'module' object is not callable"
     ]
    }
   ],
   "source": [
    "import pandas as pd\n",
    "import ipywidgets as widgets\n",
    "from IPython.display import display\n",
    "import warnings\n",
    "warnings.filterwarnings('ignore')\n",
    "\n",
    "class MyFrame(pd.DataFrame):\n",
    "    __slots__ = ['_df_show', '_output_widget', '_df_output']\n",
    "\n",
    "    def __init__(self, *args, **kwargs):\n",
    "        super().__init__(*args, **kwargs)\n",
    "        self._df_show = self.copy()\n",
    "        self._output_widget = widgets.Output()\n",
    "        self._df_output = widgets.Output()\n",
    "\n",
    "    def add_button(self, a_func, col_name_button=\"button\", button_text=\"click\"):\n",
    "        def on_button_click(row, btn):\n",
    "            with self._output_widget:\n",
    "                a_func(row)\n",
    "\n",
    "        self._buttons = []\n",
    "        for _, row in self.iterrows():\n",
    "            button = self._create_button(row, on_button_click, button_text)\n",
    "            self._buttons.append(button)\n",
    "\n",
    "    def _create_button(self, row, callback, button_text):\n",
    "        button = widgets.Button(description=button_text)\n",
    "        button.on_click(lambda btn, row=row: callback(row, btn))\n",
    "        return button\n",
    "\n",
    "    def show(self):\n",
    "        self._df_output = self._df_show.drop(columns=['button'], errors='ignore')\n",
    "\n",
    "        # データフレームとボタンをHBoxで表示\n",
    "        hbox = widgets(self._df_output)\n",
    "        display(hbox)\n",
    "        display(self._output_widget)\n",
    "\n",
    "def button_func(row):\n",
    "    print(f\"Clicked row: {row['A']}\")\n",
    "\n",
    "data = {\n",
    "    'A': [1, 2, 3],\n",
    "    'B': ['x', 'y', 'z']\n",
    "}\n",
    "\n",
    "df = MyFrame(data)\n",
    "df.add_button(button_func)\n",
    "df.show()\n"
   ]
  },
  {
   "cell_type": "code",
   "execution_count": null,
   "id": "c938a906-ee4b-40c2-a3e7-071678a77988",
   "metadata": {},
   "outputs": [],
   "source": []
  },
  {
   "cell_type": "code",
   "execution_count": 36,
   "id": "6dc2f8d3-699c-4bad-91fb-e278ff7e018a",
   "metadata": {},
   "outputs": [
    {
     "name": "stderr",
     "output_type": "stream",
     "text": [
      "UsageError: Line magic function `%streamlit` not found.\n"
     ]
    }
   ],
   "source": []
  },
  {
   "cell_type": "code",
   "execution_count": null,
   "id": "d61f2c8d-157e-436e-98a9-3c864ea3032c",
   "metadata": {},
   "outputs": [],
   "source": []
  }
 ],
 "metadata": {
  "kernelspec": {
   "display_name": "Python 3 (ipykernel)",
   "language": "python",
   "name": "python3"
  },
  "language_info": {
   "codemirror_mode": {
    "name": "ipython",
    "version": 3
   },
   "file_extension": ".py",
   "mimetype": "text/x-python",
   "name": "python",
   "nbconvert_exporter": "python",
   "pygments_lexer": "ipython3",
   "version": "3.11.3"
  }
 },
 "nbformat": 4,
 "nbformat_minor": 5
}
