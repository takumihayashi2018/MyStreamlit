{
 "cells": [
  {
   "cell_type": "code",
   "execution_count": null,
   "id": "cc386fb1-01d2-4dce-865f-0261b0d06635",
   "metadata": {},
   "outputs": [],
   "source": [
    "class PageLoadIdx(Page):\n",
    "    \"\"\"データの読み込み画面を表示するページ\"\"\"\n",
    "    def __init__(self, app, index = 0):\n",
    "        self.app = app\n",
    "        self.idx = index\n",
    "\n",
    "    def display(self):\n",
    "        ss = self.app.ss\n",
    "        uploaded_file = st.file_uploader(\"Choose a CSV file\", type=\"csv\")\n",
    "        \n",
    "        if uploaded_file:\n",
    "            df = pd.read_csv(uploaded_file)\n",
    "            prop_name = f\"df_{self.idx}\"\n",
    "            setattr(self.app, prop_name, df)\n",
    "            \n",
    "            if self.idx == 0:\n",
    "                self.app.df = df\n",
    "            \n",
    "                ss.df = self.app.df\n",
    "                ls_property_names_to_refresh = [\n",
    "                    \"selected_rows\", \"selected_cols\", \"selected_value\"\n",
    "                ]\n",
    "                ss.refresh(ls_property_names_to_refresh)\n",
    "            \n",
    "        else:\n",
    "            # ここで既存のuser_dataを読み込むコードも追加できます。\n",
    "            pass\n",
    "            \n",
    "        if self.idx == 0:\n",
    "            ss.cols_measure = st.multiselect(\"Select Measure Fields\", ss.df.columns)\n",
    "        st.write(\"Uploaded Data\", self.app.df.head())"
   ]
  }
 ],
 "metadata": {
  "kernelspec": {
   "display_name": "Python 3 (ipykernel)",
   "language": "python",
   "name": "python3"
  },
  "language_info": {
   "codemirror_mode": {
    "name": "ipython",
    "version": 3
   },
   "file_extension": ".py",
   "mimetype": "text/x-python",
   "name": "python",
   "nbconvert_exporter": "python",
   "pygments_lexer": "ipython3",
   "version": "3.11.3"
  }
 },
 "nbformat": 4,
 "nbformat_minor": 5
}
