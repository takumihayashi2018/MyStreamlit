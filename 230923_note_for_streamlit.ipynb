{
 "cells": [
  {
   "cell_type": "code",
   "execution_count": null,
   "id": "f0642ab7-29d5-4d95-9e1d-70819ce5988d",
   "metadata": {},
   "outputs": [],
   "source": []
  },
  {
   "cell_type": "code",
   "execution_count": 35,
   "id": "bba9d9ce-67d1-4965-a65b-7d867b400278",
   "metadata": {},
   "outputs": [
    {
     "name": "stderr",
     "output_type": "stream",
     "text": [
      "2023-09-20 07:54:11.159 \n",
      "  \u001b[33m\u001b[1mWarning:\u001b[0m to view this Streamlit app on a browser, run it with the following\n",
      "  command:\n",
      "\n",
      "    streamlit run /Users/takumihayashi/anaconda3/lib/python3.11/site-packages/ipykernel_launcher.py [ARGUMENTS]\n",
      "2023-09-20 07:54:11.159 Please replace `st.experimental_data_editor` with `st.data_editor`.\n",
      "\n",
      "`st.experimental_data_editor` will be removed after 2023-09-01.\n",
      "\n",
      "\n",
      "**Breaking change:** The data editor's representation in `st.session_state` was changed. The `edited_cells` dictionary is now called `edited_rows` and uses a\n",
      "different format (`{0: {\"column name\": \"edited value\"}}` instead of\n",
      "`{\"0:1\": \"edited value\"}`). You may need to adjust the code if your app uses\n",
      "`st.experimental_data_editor` in combination with `st.session_state`.\"\n",
      "\n"
     ]
    },
    {
     "data": {
      "text/plain": [
       "DeltaGenerator()"
      ]
     },
     "execution_count": 35,
     "metadata": {},
     "output_type": "execute_result"
    }
   ],
   "source": [
    "import streamlit as st\n",
    "import pandas as pd\n",
    "\n",
    "df = pd.DataFrame(\n",
    "    [\n",
    "       {\"command\": \"st.selectbox\", \"rating\": 4, \"is_widget\": True},\n",
    "       {\"command\": \"st.balloons\", \"rating\": 5, \"is_widget\": False},\n",
    "       {\"command\": \"st.time_input\", \"rating\": 3, \"is_widget\": True},\n",
    "   ]\n",
    ")\n",
    "edited_df = st.experimental_data_editor(df)\n",
    "\n",
    "favorite_command = edited_df.loc[edited_df[\"rating\"].idxmax()][\"command\"]\n",
    "st.markdown(f\"Your favorite command is **{favorite_command}** 🎈\")\n"
   ]
  }
 ],
 "metadata": {
  "kernelspec": {
   "display_name": "Python 3 (ipykernel)",
   "language": "python",
   "name": "python3"
  },
  "language_info": {
   "codemirror_mode": {
    "name": "ipython",
    "version": 3
   },
   "file_extension": ".py",
   "mimetype": "text/x-python",
   "name": "python",
   "nbconvert_exporter": "python",
   "pygments_lexer": "ipython3",
   "version": "3.11.3"
  }
 },
 "nbformat": 4,
 "nbformat_minor": 5
}
